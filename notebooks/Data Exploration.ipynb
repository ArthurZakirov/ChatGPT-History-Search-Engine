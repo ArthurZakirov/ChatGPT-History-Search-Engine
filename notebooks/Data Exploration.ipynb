{
 "cells": [
  {
   "cell_type": "code",
   "execution_count": 48,
   "metadata": {},
   "outputs": [],
   "source": [
    "import sys\n",
    "import os\n",
    "import pandas as pd\n",
    "import os\n",
    "import re\n",
    "\n",
    "sys.path.append('..')\n",
    "\n",
    "from src.data.data_processing import (\n",
    "    load_gpt_conversation_data,\n",
    "    extract_message_history\n",
    ")"
   ]
  },
  {
   "cell_type": "code",
   "execution_count": null,
   "metadata": {},
   "outputs": [],
   "source": [
    "raw_data_dir = # Replace with your actual directory\n",
    "\n",
    "output_file = # Replace with your actual file path\n",
    "email_value = # Replace with your actual email value\n",
    "\n",
    "notion_api_key = # Replace with your actual API key\n",
    "page_id =  # Replace with your actual page ID\n",
    "\n",
    "csv_file_path = output_file\n",
    "parent_page_id = page_id\n",
    "\n",
    "raw_data_path = os.path.join(raw_data_dir, \"conversations.json\")\n",
    "conversations = load_gpt_conversation_data(raw_data_path)"
   ]
  },
  {
   "cell_type": "code",
   "execution_count": 49,
   "metadata": {},
   "outputs": [],
   "source": [
    "\n",
    "def sanitize_filename(filename):\n",
    "    # Replace any character that is not a letter, number, space, or underscore\n",
    "    return re.sub(r'[\\\\/*?:\"<>|]', \"\", filename)\n",
    "\n",
    "def create_markdown_from_dataframe(df, output_dir):\n",
    "    if df.empty:\n",
    "        print(\"Dataframe is empty\")\n",
    "        return\n",
    "    \n",
    "    # Extract date from the first entry of the dataframe and convert to string\n",
    "    date_str = pd.to_datetime(df['create_time'].iloc[0]).strftime('%Y-%m-%d')\n",
    "    \n",
    "    # Extract title from the dataframe\n",
    "    title = df['title'].iloc[0]\n",
    "    \n",
    "    # Sanitize the title to remove any invalid characters\n",
    "    sanitized_title = sanitize_filename(title)\n",
    "    \n",
    "    # Construct the filename with date and sanitized title\n",
    "    filename = f\"{date_str} {sanitized_title}.md\"\n",
    "    filepath = os.path.join(output_dir, filename)\n",
    "\n",
    "    # Open and write to the markdown file\n",
    "    with open(filepath, 'w', encoding='utf-8') as md_file:\n",
    "        for _, row in df.iterrows():\n",
    "            # Write \"## USER\" or \"## ASSISTANT\" based on the author\n",
    "            if row['author'] == 'user':\n",
    "                md_file.write(\"## USER:\\n\")\n",
    "            elif row['author'] == 'assistant':\n",
    "                md_file.write(\"## ASSISTANT:\\n\")\n",
    "            \n",
    "            # Write the content of the message\n",
    "            md_file.write(f\"{row['content']}\\n\\n\")\n",
    "    \n",
    "    print(f\"Markdown file created: {filepath}\")\n"
   ]
  },
  {
   "cell_type": "code",
   "execution_count": 50,
   "metadata": {},
   "outputs": [],
   "source": [
    "\n",
    "\n",
    "# Specify output directory\n",
    "# output_dir = './markdown_conversations'\n",
    "# os.makedirs(output_dir, exist_ok=True)\n",
    "\n",
    "# for conversation_id in conversations[\"conversation_id\"].values:\n",
    "#     message_history = extract_message_history(conversations, conversation_id)\n",
    "#     create_markdown_from_dataframe(message_history, output_dir)\n"
   ]
  },
  {
   "cell_type": "code",
   "execution_count": 51,
   "metadata": {},
   "outputs": [
    {
     "name": "stdout",
     "output_type": "stream",
     "text": [
      "CSV file created: ./../data/zak99.csv\n"
     ]
    }
   ],
   "source": [
    "import pandas as pd\n",
    "import os\n",
    "import csv\n",
    "\n",
    "def create_single_csv_with_all_chats(conversations, output_file, email_value):\n",
    "    # Open the CSV file for writing\n",
    "    with open(output_file, 'w', newline='', encoding='utf-8') as csv_file:\n",
    "        csv_writer = csv.writer(csv_file)\n",
    "        # Write the header\n",
    "        csv_writer.writerow(['Date', 'Title', 'Chat Content', 'Email'])\n",
    "\n",
    "        # Loop through each conversation\n",
    "        for conversation_id in conversations[\"conversation_id\"].unique():\n",
    "            # Extract message history using your extract_message_history function\n",
    "            message_history = extract_message_history(conversations, conversation_id)\n",
    "            \n",
    "            # Get the conversation date from the first message\n",
    "            if len(message_history) == 0:\n",
    "                continue\n",
    "            \n",
    "            conversation_date = pd.to_datetime(message_history['create_time'].iloc[0]).strftime('%Y-%m-%d')\n",
    "\n",
    "            # Try to get the conversation title, use a fallback if missing\n",
    "            conversation_title = message_history['title'].iloc[0] \n",
    "            \n",
    "            # Initialize a variable to hold all the chat content for this conversation\n",
    "            chat_content = \"\"\n",
    "\n",
    "            # Iterate through each message and append it to chat_content\n",
    "            for _, row in message_history.iterrows():\n",
    "                author = row['author'].upper()  # Format as USER or ASSISTANT\n",
    "                content = row['content']\n",
    "                chat_content += f\"## {author}: \\n{content}\\n\\n\"  # Format message with \"USER:\" or \"ASSISTANT:\"\n",
    "            \n",
    "            # Write the conversation details to the CSV\n",
    "            csv_writer.writerow([conversation_date, conversation_title, chat_content.strip(), email_value])\n",
    "\n",
    "    print(f\"CSV file created: {output_file}\")\n",
    "\n",
    "# Example usage\n",
    "# Assuming 'conversations' is your DataFrame with all conversations\n",
    "\n",
    "# Specify the output CSV file\n",
    "\n",
    "\n",
    "# Create the CSV with all chats\n",
    "create_single_csv_with_all_chats(conversations, output_file, email_value)\n"
   ]
  },
  {
   "cell_type": "code",
   "execution_count": 52,
   "metadata": {},
   "outputs": [],
   "source": [
    "from notion_client import Client\n",
    "\n",
    "\n",
    "# Initialize the Notion client with your API key\n",
    "notion = Client(auth=notion_api_key)  # Replace with your actual API key\n",
    "\n"
   ]
  },
  {
   "cell_type": "code",
   "execution_count": 53,
   "metadata": {},
   "outputs": [
    {
     "name": "stdout",
     "output_type": "stream",
     "text": [
      "Found existing database with ID: 6cb1e54f-6de6-429a-8794-5fd643817197\n"
     ]
    },
    {
     "name": "stderr",
     "output_type": "stream",
     "text": [
      "Adding entries to database:   5%|▍         | 28/583 [01:10<21:54,  2.37s/it]"
     ]
    },
    {
     "name": "stdout",
     "output_type": "stream",
     "text": [
      "An error occurred while adding entry: body failed validation: body.children.length should be ≤ `100`, instead was `120`.\n"
     ]
    },
    {
     "name": "stderr",
     "output_type": "stream",
     "text": [
      "Adding entries to database:  11%|█         | 64/583 [02:52<16:13,  1.87s/it]"
     ]
    },
    {
     "name": "stdout",
     "output_type": "stream",
     "text": [
      "An error occurred while adding entry: body failed validation: body.children.length should be ≤ `100`, instead was `107`.\n"
     ]
    },
    {
     "name": "stderr",
     "output_type": "stream",
     "text": [
      "Adding entries to database:  14%|█▎        | 79/583 [03:24<14:02,  1.67s/it]"
     ]
    },
    {
     "name": "stdout",
     "output_type": "stream",
     "text": [
      "An error occurred while adding entry: body failed validation: body.children.length should be ≤ `100`, instead was `109`.\n"
     ]
    },
    {
     "name": "stderr",
     "output_type": "stream",
     "text": [
      "Adding entries to database:  16%|█▌        | 93/583 [03:55<21:24,  2.62s/it]"
     ]
    },
    {
     "name": "stdout",
     "output_type": "stream",
     "text": [
      "An error occurred while adding entry: body failed validation: body.children.length should be ≤ `100`, instead was `128`.\n"
     ]
    },
    {
     "name": "stderr",
     "output_type": "stream",
     "text": [
      "Adding entries to database:  17%|█▋        | 98/583 [04:08<19:10,  2.37s/it]"
     ]
    },
    {
     "name": "stdout",
     "output_type": "stream",
     "text": [
      "An error occurred while adding entry: body failed validation: body.children.length should be ≤ `100`, instead was `190`.\n"
     ]
    },
    {
     "name": "stderr",
     "output_type": "stream",
     "text": [
      "Adding entries to database:  17%|█▋        | 101/583 [04:12<13:58,  1.74s/it]"
     ]
    },
    {
     "name": "stdout",
     "output_type": "stream",
     "text": [
      "An error occurred while adding entry: body failed validation: body.children.length should be ≤ `100`, instead was `185`.\n"
     ]
    },
    {
     "name": "stderr",
     "output_type": "stream",
     "text": [
      "Adding entries to database:  17%|█▋        | 102/583 [04:14<13:30,  1.69s/it]"
     ]
    },
    {
     "name": "stdout",
     "output_type": "stream",
     "text": [
      "An error occurred while adding entry: body failed validation: body.children.length should be ≤ `100`, instead was `131`.\n"
     ]
    },
    {
     "name": "stderr",
     "output_type": "stream",
     "text": [
      "Adding entries to database:  23%|██▎       | 134/583 [05:38<12:06,  1.62s/it]"
     ]
    },
    {
     "name": "stdout",
     "output_type": "stream",
     "text": [
      "An error occurred while adding entry: body failed validation: body.children.length should be ≤ `100`, instead was `212`.\n"
     ]
    },
    {
     "name": "stderr",
     "output_type": "stream",
     "text": [
      "Adding entries to database:  24%|██▍       | 141/583 [05:52<12:19,  1.67s/it]"
     ]
    },
    {
     "name": "stdout",
     "output_type": "stream",
     "text": [
      "An error occurred while adding entry: body failed validation: body.children.length should be ≤ `100`, instead was `102`.\n"
     ]
    },
    {
     "name": "stderr",
     "output_type": "stream",
     "text": [
      "Adding entries to database:  25%|██▍       | 144/583 [05:58<13:01,  1.78s/it]"
     ]
    },
    {
     "name": "stdout",
     "output_type": "stream",
     "text": [
      "An error occurred while adding entry: body failed validation: body.children.length should be ≤ `100`, instead was `144`.\n"
     ]
    },
    {
     "name": "stderr",
     "output_type": "stream",
     "text": [
      "Adding entries to database:  25%|██▌       | 146/583 [06:03<16:19,  2.24s/it]"
     ]
    },
    {
     "name": "stdout",
     "output_type": "stream",
     "text": [
      "An error occurred while adding entry: body failed validation: body.children.length should be ≤ `100`, instead was `164`.\n"
     ]
    },
    {
     "name": "stderr",
     "output_type": "stream",
     "text": [
      "Adding entries to database:  28%|██▊       | 161/583 [06:45<18:46,  2.67s/it]"
     ]
    },
    {
     "name": "stdout",
     "output_type": "stream",
     "text": [
      "An error occurred while adding entry: body failed validation: body.children.length should be ≤ `100`, instead was `165`.\n"
     ]
    },
    {
     "name": "stderr",
     "output_type": "stream",
     "text": [
      "Adding entries to database:  32%|███▏      | 188/583 [07:56<24:29,  3.72s/it]"
     ]
    },
    {
     "name": "stdout",
     "output_type": "stream",
     "text": [
      "An error occurred while adding entry: body failed validation: body.children.length should be ≤ `100`, instead was `224`.\n"
     ]
    },
    {
     "name": "stderr",
     "output_type": "stream",
     "text": [
      "Adding entries to database:  33%|███▎      | 193/583 [08:09<16:11,  2.49s/it]"
     ]
    },
    {
     "name": "stdout",
     "output_type": "stream",
     "text": [
      "An error occurred while adding entry: body failed validation: body.children.length should be ≤ `100`, instead was `143`.\n"
     ]
    },
    {
     "name": "stderr",
     "output_type": "stream",
     "text": [
      "Adding entries to database:  35%|███▌      | 206/583 [08:36<13:46,  2.19s/it]"
     ]
    },
    {
     "name": "stdout",
     "output_type": "stream",
     "text": [
      "An error occurred while adding entry: body failed validation: body.children.length should be ≤ `100`, instead was `224`.\n"
     ]
    },
    {
     "name": "stderr",
     "output_type": "stream",
     "text": [
      "Adding entries to database:  39%|███▉      | 226/583 [09:31<17:42,  2.98s/it]"
     ]
    },
    {
     "name": "stdout",
     "output_type": "stream",
     "text": [
      "An error occurred while adding entry: body failed validation: body.children.length should be ≤ `100`, instead was `148`.\n"
     ]
    },
    {
     "name": "stderr",
     "output_type": "stream",
     "text": [
      "Adding entries to database:  39%|███▉      | 230/583 [09:43<18:11,  3.09s/it]"
     ]
    },
    {
     "name": "stdout",
     "output_type": "stream",
     "text": [
      "An error occurred while adding entry: body failed validation: body.children.length should be ≤ `100`, instead was `162`.\n"
     ]
    },
    {
     "name": "stderr",
     "output_type": "stream",
     "text": [
      "Adding entries to database:  40%|███▉      | 231/583 [09:45<15:55,  2.71s/it]"
     ]
    },
    {
     "name": "stdout",
     "output_type": "stream",
     "text": [
      "An error occurred while adding entry: body failed validation: body.children.length should be ≤ `100`, instead was `158`.\n"
     ]
    },
    {
     "name": "stderr",
     "output_type": "stream",
     "text": [
      "Adding entries to database:  40%|███▉      | 232/583 [09:47<14:34,  2.49s/it]"
     ]
    },
    {
     "name": "stdout",
     "output_type": "stream",
     "text": [
      "An error occurred while adding entry: body failed validation: body.children.length should be ≤ `100`, instead was `135`.\n"
     ]
    },
    {
     "name": "stderr",
     "output_type": "stream",
     "text": [
      "Adding entries to database:  42%|████▏     | 243/583 [10:26<12:39,  2.23s/it]"
     ]
    },
    {
     "name": "stdout",
     "output_type": "stream",
     "text": [
      "An error occurred while adding entry: body failed validation: body.children.length should be ≤ `100`, instead was `176`.\n"
     ]
    },
    {
     "name": "stderr",
     "output_type": "stream",
     "text": [
      "Adding entries to database:  47%|████▋     | 275/583 [11:53<18:29,  3.60s/it]"
     ]
    },
    {
     "name": "stdout",
     "output_type": "stream",
     "text": [
      "An error occurred while adding entry: body failed validation: body.children.length should be ≤ `100`, instead was `134`.\n"
     ]
    },
    {
     "name": "stderr",
     "output_type": "stream",
     "text": [
      "Adding entries to database:  52%|█████▏    | 305/583 [13:15<13:38,  2.94s/it]"
     ]
    },
    {
     "name": "stdout",
     "output_type": "stream",
     "text": [
      "An error occurred while adding entry: body failed validation: body.children.length should be ≤ `100`, instead was `160`.\n"
     ]
    },
    {
     "name": "stderr",
     "output_type": "stream",
     "text": [
      "Adding entries to database:  53%|█████▎    | 310/583 [13:29<11:38,  2.56s/it]"
     ]
    },
    {
     "name": "stdout",
     "output_type": "stream",
     "text": [
      "An error occurred while adding entry: body failed validation: body.children.length should be ≤ `100`, instead was `123`.\n"
     ]
    },
    {
     "name": "stderr",
     "output_type": "stream",
     "text": [
      "Adding entries to database:  54%|█████▍    | 314/583 [13:39<11:14,  2.51s/it]"
     ]
    },
    {
     "name": "stdout",
     "output_type": "stream",
     "text": [
      "An error occurred while adding entry: body failed validation: body.children.length should be ≤ `100`, instead was `149`.\n"
     ]
    },
    {
     "name": "stderr",
     "output_type": "stream",
     "text": [
      "Adding entries to database:  55%|█████▌    | 321/583 [14:00<09:45,  2.23s/it]"
     ]
    },
    {
     "name": "stdout",
     "output_type": "stream",
     "text": [
      "An error occurred while adding entry: body failed validation: body.children.length should be ≤ `100`, instead was `107`.\n"
     ]
    },
    {
     "name": "stderr",
     "output_type": "stream",
     "text": [
      "Adding entries to database:  60%|█████▉    | 348/583 [15:44<15:43,  4.02s/it]"
     ]
    },
    {
     "name": "stdout",
     "output_type": "stream",
     "text": [
      "An error occurred while adding entry: body failed validation: body.children.length should be ≤ `100`, instead was `155`.\n"
     ]
    },
    {
     "name": "stderr",
     "output_type": "stream",
     "text": [
      "Adding entries to database:  63%|██████▎   | 369/583 [16:55<13:23,  3.76s/it]"
     ]
    },
    {
     "name": "stdout",
     "output_type": "stream",
     "text": [
      "An error occurred while adding entry: body failed validation: body.children.length should be ≤ `100`, instead was `106`.\n"
     ]
    },
    {
     "name": "stderr",
     "output_type": "stream",
     "text": [
      "Adding entries to database:  68%|██████▊   | 394/583 [17:51<05:02,  1.60s/it]"
     ]
    },
    {
     "name": "stdout",
     "output_type": "stream",
     "text": [
      "An error occurred while adding entry: body failed validation: body.children.length should be ≤ `100`, instead was `150`.\n"
     ]
    },
    {
     "name": "stderr",
     "output_type": "stream",
     "text": [
      "Adding entries to database:  75%|███████▌  | 439/583 [21:14<06:48,  2.83s/it]"
     ]
    },
    {
     "name": "stdout",
     "output_type": "stream",
     "text": [
      "An error occurred while adding entry: body failed validation: body.children.length should be ≤ `100`, instead was `214`.\n"
     ]
    },
    {
     "name": "stderr",
     "output_type": "stream",
     "text": [
      "Adding entries to database:  97%|█████████▋| 563/583 [27:12<00:45,  2.28s/it]"
     ]
    },
    {
     "name": "stdout",
     "output_type": "stream",
     "text": [
      "An error occurred while adding entry: body failed validation: body.children.length should be ≤ `100`, instead was `112`.\n"
     ]
    },
    {
     "name": "stderr",
     "output_type": "stream",
     "text": [
      "Adding entries to database: 100%|██████████| 583/583 [28:16<00:00,  2.91s/it]"
     ]
    },
    {
     "name": "stdout",
     "output_type": "stream",
     "text": [
      "CSV data import completed!\n"
     ]
    },
    {
     "name": "stderr",
     "output_type": "stream",
     "text": [
      "\n"
     ]
    }
   ],
   "source": [
    "import csv\n",
    "from tqdm import tqdm\n",
    "# Set CSV field size limit to a large value (1 billion characters)\n",
    "csv.field_size_limit(10**9)\n",
    "\n",
    "def find_or_create_database(parent_page_id):\n",
    "    try:\n",
    "        # Retrieve blocks within the page to search for a database\n",
    "        blocks = notion.blocks.children.list(block_id=parent_page_id)\n",
    "\n",
    "        for block in blocks['results']:\n",
    "            if block['type'] == 'child_database':\n",
    "                print(f\"Found existing database with ID: {block['id']}\")\n",
    "                return block['id']  # Return the existing database ID\n",
    "\n",
    "        # If no database is found, create a new one\n",
    "        print(\"No existing database found. Creating a new database...\")\n",
    "\n",
    "        # Create a new database within the page\n",
    "        response = notion.databases.create(\n",
    "            parent={\"page_id\": parent_page_id},\n",
    "            title=[\n",
    "                {\n",
    "                    \"type\": \"text\",\n",
    "                    \"text\": {\"content\": \"Chat Database\"}\n",
    "                }\n",
    "            ],\n",
    "            properties={\n",
    "                \"Title\": {\"title\": {}},\n",
    "                \"Date\": {\"date\": {}},\n",
    "                \"Email\": {\"rich_text\": {}}\n",
    "            }\n",
    "        )\n",
    "        print(f\"New database created with ID: {response['id']}\")\n",
    "        return response['id']\n",
    "\n",
    "    except Exception as e:\n",
    "        print(f\"An error occurred while finding or creating the database: {e}\")\n",
    "        return None\n",
    "\n",
    "# Function to split long text into chunks of 2000 characters\n",
    "def split_text_into_chunks(text, chunk_size=1000):\n",
    "    return [text[i:i + chunk_size] for i in range(0, len(text), chunk_size)]\n",
    "\n",
    "def replace_user_and_assistant(text):\n",
    "    # Replace ## USER with 👤 USER, ## ASSISTANT with 🤖 ASSISTANT, and others\n",
    "    text = text.replace(\"## USER\", \"👤 USER\")\n",
    "    text = text.replace(\"## ASSISTANT\", \"🤖 ASSISTANT\")\n",
    "    text = text.replace(\"## TOOL\", \"🛠 TOOL\")  # Add tool replacement\n",
    "    text = text.replace(\"## SYSTEM\", \"💻 SYSTEM\")  # Add system replacement\n",
    "    return text\n",
    "\n",
    "\n",
    "def add_entry_to_database(database_id, row):\n",
    "    try:\n",
    "        # Prepare the chat content by replacing markers and splitting into chunks\n",
    "        chat_content = replace_user_and_assistant(row[\"Chat Content\"])\n",
    "        chat_content_chunks = split_text_into_chunks(chat_content)\n",
    "\n",
    "        # Create the main properties (Title, Date, Email)\n",
    "        properties = {\n",
    "            \"Title\": {\n",
    "                \"title\": [\n",
    "                    {\n",
    "                        \"text\": {\n",
    "                            \"content\": row[\"Title\"]  # Using 'Title' as the page title\n",
    "                        }\n",
    "                    }\n",
    "                ]\n",
    "            },\n",
    "            \"Date\": {\n",
    "                \"date\": {\n",
    "                    \"start\": row[\"Date\"]  # Date property\n",
    "                }\n",
    "            },\n",
    "            \"Email\": {\n",
    "                \"rich_text\": [\n",
    "                    {\n",
    "                        \"text\": {\n",
    "                            \"content\": row[\"Email\"]  # Email property\n",
    "                        }\n",
    "                    }\n",
    "                ]\n",
    "            }\n",
    "        }\n",
    "\n",
    "        # Create a new page in the Notion database with the initial content and properties\n",
    "        response = notion.pages.create(\n",
    "            parent={\"database_id\": database_id},\n",
    "            properties=properties,\n",
    "            children=[]  # We'll add children later for chat content\n",
    "        )\n",
    "\n",
    "        # Now that the page is created, add chat content as children blocks\n",
    "        page_id = response[\"id\"]\n",
    "        children_blocks = []\n",
    "        for chunk in chat_content_chunks:\n",
    "            children_blocks.append({\n",
    "                \"object\": \"block\",\n",
    "                \"type\": \"paragraph\",\n",
    "                \"paragraph\": {\n",
    "                    \"rich_text\": [\n",
    "                        {\n",
    "                            \"text\": {\n",
    "                                \"content\": chunk\n",
    "                            }\n",
    "                        }\n",
    "                    ]\n",
    "                }\n",
    "            })\n",
    "\n",
    "        # Append the chat content as children to the created page\n",
    "        if children_blocks:\n",
    "            notion.blocks.children.append(block_id=page_id, children=children_blocks)\n",
    "\n",
    "        #print(f\"Entry added: {row['Title']}\")\n",
    "    except Exception as e:\n",
    "        print(f\"An error occurred while adding entry: {e}\")\n",
    "\n",
    "\n",
    "# Path to your CSV file\n",
    "\n",
    "# Step 1: Find or create a database inside the specified page\n",
    "database_id = find_or_create_database(parent_page_id)\n",
    "\n",
    "if database_id:\n",
    "    # Open the CSV and create a page for each row in the database\n",
    "    with open(csv_file_path, mode='r', encoding='utf-8') as file:\n",
    "        csv_reader = list(csv.DictReader(file))  # Convert csv_reader to a list to calculate length\n",
    "        total_rows = len(csv_reader)  # Get total number of rows\n",
    "        \n",
    "        # Use tqdm with the total number of rows for progress tracking\n",
    "        for row in tqdm(csv_reader, desc=\"Adding entries to database\", total=total_rows):\n",
    "            add_entry_to_database(database_id, row)\n",
    "\n",
    "print(\"CSV data import completed!\")\n"
   ]
  }
 ],
 "metadata": {
  "kernelspec": {
   "display_name": "env",
   "language": "python",
   "name": "python3"
  },
  "language_info": {
   "codemirror_mode": {
    "name": "ipython",
    "version": 3
   },
   "file_extension": ".py",
   "mimetype": "text/x-python",
   "name": "python",
   "nbconvert_exporter": "python",
   "pygments_lexer": "ipython3",
   "version": "3.11.7"
  }
 },
 "nbformat": 4,
 "nbformat_minor": 2
}
